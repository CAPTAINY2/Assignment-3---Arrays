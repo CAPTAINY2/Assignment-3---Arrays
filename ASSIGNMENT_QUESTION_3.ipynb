{
  "nbformat": 4,
  "nbformat_minor": 0,
  "metadata": {
    "colab": {
      "provenance": [],
      "authorship_tag": "ABX9TyO7duhHeQUEoKCtr5Oj7jMk",
      "include_colab_link": true
    },
    "kernelspec": {
      "name": "python3",
      "display_name": "Python 3"
    },
    "language_info": {
      "name": "python"
    }
  },
  "cells": [
    {
      "cell_type": "markdown",
      "metadata": {
        "id": "view-in-github",
        "colab_type": "text"
      },
      "source": [
        "<a href=\"https://colab.research.google.com/github/CAPTAINY2/Assignment-3---Arrays/blob/main/ASSIGNMENT_QUESTION_3.ipynb\" target=\"_parent\"><img src=\"https://colab.research.google.com/assets/colab-badge.svg\" alt=\"Open In Colab\"/></a>"
      ]
    },
    {
      "cell_type": "markdown",
      "source": [
        "### QUESTION-1"
      ],
      "metadata": {
        "id": "HLC9f3keCKXM"
      }
    },
    {
      "cell_type": "code",
      "execution_count": null,
      "metadata": {
        "colab": {
          "base_uri": "https://localhost:8080/"
        },
        "id": "r7gElnj_lyYW",
        "outputId": "5f9769cc-7f03-4553-de7a-b729fe1ae8be"
      },
      "outputs": [
        {
          "output_type": "stream",
          "name": "stdout",
          "text": [
            "Output: 2\n"
          ]
        }
      ],
      "source": [
        "nums = [-1, 2, 1, -4]\n",
        "target = 1\n",
        "\n",
        "def Sum(nums, target):\n",
        "    nums.sort()\n",
        "    n = len(nums)\n",
        "    closest_sum= float('inf')\n",
        "\n",
        "    for i in range(n-2):\n",
        "        x= i + 1\n",
        "        y = n - 1\n",
        "\n",
        "        while x < y :\n",
        "            current_sum = nums[i] + nums[x] + nums[y]\n",
        "            if abs(current_sum - target) < abs(closest_sum - target):\n",
        "                closest_sum = current_sum\n",
        "            if current_sum < target:\n",
        "                x += 1\n",
        "            elif current_sum > target:\n",
        "                y -= 1\n",
        "            else:\n",
        "                return target\n",
        "\n",
        "    return closest_sum\n",
        "\n",
        "print(f\"Output: {Sum(nums, target)}\")\n"
      ]
    },
    {
      "cell_type": "markdown",
      "source": [
        "### QUESTION-2"
      ],
      "metadata": {
        "id": "I0T3xvlJCQEv"
      }
    },
    {
      "cell_type": "markdown",
      "source": [
        "### QUESTION-3"
      ],
      "metadata": {
        "id": "cnefac_sCSpE"
      }
    },
    {
      "cell_type": "code",
      "source": [
        "nums = [3, 2, 1]\n",
        "\n",
        "def nextPermutation(nums):\n",
        "    n = len(nums)\n",
        "    i = n - 2\n",
        "\n",
        "    while i >= 0 and nums[i] >= nums[i+1]:\n",
        "        i -= 1\n",
        "\n",
        "    if i>= 0:\n",
        "        j = n - 1\n",
        "        while j > i and nums[j] <= nums[i]:\n",
        "            j -= 1\n",
        "        nums[i], nums[j] = nums[j], nums[i]\n",
        "\n",
        "    x = i + 1\n",
        "    y = n - 1\n",
        "    while x < y:\n",
        "        nums[x], nums[y] = nums[y], nums[x]\n",
        "        x+= 1\n",
        "        y-= 1\n",
        "\n",
        "print(nums)\n"
      ],
      "metadata": {
        "colab": {
          "base_uri": "https://localhost:8080/"
        },
        "id": "_dB9lAuT1twz",
        "outputId": "9adc0f62-637e-4dd4-8844-8a0efaed741e"
      },
      "execution_count": null,
      "outputs": [
        {
          "output_type": "stream",
          "name": "stdout",
          "text": [
            "[3, 2, 1]\n"
          ]
        }
      ]
    },
    {
      "cell_type": "markdown",
      "source": [
        "### QUESTION-4"
      ],
      "metadata": {
        "id": "zb-c6GqACUa-"
      }
    },
    {
      "cell_type": "code",
      "source": [
        "nums = [1, 3, 5, 6]\n",
        "target = 5\n",
        "\n",
        "def Algorithim(nums, target):\n",
        "    x = 0\n",
        "    y = len(nums) - 1\n",
        "\n",
        "    while x <= y:\n",
        "        z = (x + y) // 2\n",
        "\n",
        "        if nums[z] == target:\n",
        "            return z\n",
        "        elif nums[z] > target:\n",
        "            y = z - 1\n",
        "        else:\n",
        "            x = z + 1\n",
        "\n",
        "    return x\n",
        "\n",
        "print(f\"Output: {Algorithim(nums, target)}\") "
      ],
      "metadata": {
        "colab": {
          "base_uri": "https://localhost:8080/"
        },
        "id": "PDXm3uWu5EPH",
        "outputId": "380594d6-0cff-4ac7-80fc-59c3b497b10e"
      },
      "execution_count": null,
      "outputs": [
        {
          "output_type": "stream",
          "name": "stdout",
          "text": [
            "Output: 2\n"
          ]
        }
      ]
    },
    {
      "cell_type": "markdown",
      "source": [
        "### QUESTION-5"
      ],
      "metadata": {
        "id": "KsZwh2nfCWYM"
      }
    },
    {
      "cell_type": "code",
      "source": [
        "def int(digits):\n",
        "    carry = 1\n",
        "\n",
        "    for i in range(len(digits) - 1, -1, -1):\n",
        "        digits[i] += carry\n",
        "        carry = digits[i] // 10\n",
        "        digits[i] %= 10\n",
        "\n",
        "    if carry == 1:\n",
        "        digits.insert(0, 1)\n",
        "\n",
        "    return digits\n",
        "\n",
        "digits = [1, 2, 3]\n",
        "print(f\"Output: {int(digits)}\")  "
      ],
      "metadata": {
        "id": "1WYyZh6l7Cop",
        "colab": {
          "base_uri": "https://localhost:8080/"
        },
        "outputId": "745626c9-917f-4e0f-f4b5-1ad8a245c5d8"
      },
      "execution_count": 1,
      "outputs": [
        {
          "output_type": "stream",
          "name": "stdout",
          "text": [
            "Output: [1, 2, 4]\n"
          ]
        }
      ]
    },
    {
      "cell_type": "markdown",
      "source": [
        "### QUESTION-6"
      ],
      "metadata": {
        "id": "9LpbcrHlCYep"
      }
    },
    {
      "cell_type": "code",
      "source": [
        "def Number(nums):\n",
        "    result = 0\n",
        "    for i in nums:\n",
        "        result ^= i\n",
        "    return result\n",
        "\n",
        "nums = [2, 2, 1]\n",
        "print(f\"Output: {Number(nums)}\")  \n"
      ],
      "metadata": {
        "colab": {
          "base_uri": "https://localhost:8080/"
        },
        "id": "n-4MaaHR-Al9",
        "outputId": "efa5fbf0-cee3-48e9-cd9a-07a2e505668c"
      },
      "execution_count": 5,
      "outputs": [
        {
          "output_type": "stream",
          "name": "stdout",
          "text": [
            "Output: 1\n"
          ]
        }
      ]
    },
    {
      "cell_type": "markdown",
      "source": [
        "### QUESTION-7"
      ],
      "metadata": {
        "id": "I-ppqPfLCbm6"
      }
    },
    {
      "cell_type": "code",
      "source": [
        "nums = [0, 1, 3, 50, 75]\n",
        "lower = 0\n",
        "upper = 99\n",
        "\n",
        "def Ranges(nums, lower, upper):\n",
        "    result = []\n",
        "    start = lower\n",
        "\n",
        "    for i in nums:\n",
        "        if i > start:\n",
        "            result.append([start, i - 1])\n",
        "        start = i + 1\n",
        "\n",
        "    if start <= upper:\n",
        "        result.append([start, upper])\n",
        "\n",
        "    return result\n",
        "\n",
        "print(Ranges(nums, lower, upper))  \n"
      ],
      "metadata": {
        "colab": {
          "base_uri": "https://localhost:8080/"
        },
        "id": "87v63bdj-h-y",
        "outputId": "6538fc92-05ed-4917-fc6e-5440f41fae5a"
      },
      "execution_count": 6,
      "outputs": [
        {
          "output_type": "stream",
          "name": "stdout",
          "text": [
            "[[2, 2], [4, 49], [51, 74], [76, 99]]\n"
          ]
        }
      ]
    },
    {
      "cell_type": "markdown",
      "source": [
        "### QUESTION-8"
      ],
      "metadata": {
        "id": "JEEbgLPMCkf9"
      }
    },
    {
      "cell_type": "code",
      "source": [
        "interval = [[0, 30], [5, 10], [15, 20]]\n",
        "\n",
        "def Meeting(interval):\n",
        "    interval.sort(key=lambda x: x[0])\n",
        "\n",
        "    for i in range(1, len(interval)):\n",
        "        if interval[i][0] < interval[i-1][1]:\n",
        "            return False\n",
        "\n",
        "    return True\n",
        "\n",
        "print(f\"Output: {Meeting(interval)}\")  \n"
      ],
      "metadata": {
        "colab": {
          "base_uri": "https://localhost:8080/"
        },
        "id": "c5j4KVEnAfpI",
        "outputId": "444b7e88-2037-49dd-babd-39a49fb47336"
      },
      "execution_count": 9,
      "outputs": [
        {
          "output_type": "stream",
          "name": "stdout",
          "text": [
            "Output: False\n"
          ]
        }
      ]
    },
    {
      "cell_type": "code",
      "source": [],
      "metadata": {
        "id": "6msKPypVBrsy"
      },
      "execution_count": null,
      "outputs": []
    }
  ]
}